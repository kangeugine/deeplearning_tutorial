{
 "cells": [
  {
   "cell_type": "markdown",
   "metadata": {},
   "source": [
    "## 16.2 Dropout Regularization in Keras"
   ]
  },
  {
   "cell_type": "code",
   "execution_count": 1,
   "metadata": {
    "collapsed": false
   },
   "outputs": [
    {
     "name": "stderr",
     "output_type": "stream",
     "text": [
      "Using Theano backend.\n",
      "/Library/Frameworks/Python.framework/Versions/2.7/lib/python2.7/site-packages/sklearn/cross_validation.py:44: DeprecationWarning: This module was deprecated in version 0.18 in favor of the model_selection module into which all the refactored classes and functions are moved. Also note that the interface of the new CV iterators are different from that of this module. This module will be removed in 0.20.\n",
      "  \"This module will be removed in 0.20.\", DeprecationWarning)\n",
      "/Library/Frameworks/Python.framework/Versions/2.7/lib/python2.7/site-packages/sklearn/grid_search.py:43: DeprecationWarning: This module was deprecated in version 0.18 in favor of the model_selection module into which all the refactored classes and functions are moved. This module will be removed in 0.20.\n",
      "  DeprecationWarning)\n"
     ]
    }
   ],
   "source": [
    "# Baseline Model on the Sonar Dataset\n",
    "import numpy\n",
    "import pandas\n",
    "from keras.models import Sequential\n",
    "from keras.layers import Dense\n",
    "from keras.layers import Dropout\n",
    "from keras.wrappers.scikit_learn import KerasClassifier\n",
    "from keras.constraints import maxnorm\n",
    "from keras.optimizers import SGD\n",
    "from sklearn.cross_validation import cross_val_score\n",
    "from sklearn.preprocessing import LabelEncoder\n",
    "from sklearn.cross_validation import StratifiedKFold\n",
    "from sklearn.preprocessing import StandardScaler\n",
    "from sklearn.grid_search import GridSearchCV\n",
    "from sklearn.pipeline import Pipeline\n",
    "\n",
    "# load dataset\n",
    "dataframe = pandas.read_csv(\"data/sonar.csv\", header=None)\n",
    "dataset = dataframe.values\n",
    "# split into input (X) and output (Y) variables\n",
    "X = dataset[:,0:60].astype(float)\n",
    "Y = dataset[:,60]\n",
    "# encode class values as integers\n",
    "encoder = LabelEncoder()\n",
    "encoder.fit(Y)\n",
    "encoded_Y = encoder.transform(Y)\n",
    "# baseline\n",
    "def create_baseline():\n",
    "  # create model\n",
    "  model = Sequential()\n",
    "  model.add(Dense(60, input_dim=60, init='normal', activation='relu'))\n",
    "  model.add(Dense(30, init='normal', activation='relu'))\n",
    "  model.add(Dense(1, init='normal', activation='sigmoid'))\n",
    "  # Compile model\n",
    "  sgd = SGD(lr=0.01, momentum=0.8, decay=0.0, nesterov=False)\n",
    "  model.compile(loss='binary_crossentropy', optimizer=sgd, metrics=['accuracy'])\n",
    "  return model"
   ]
  },
  {
   "cell_type": "code",
   "execution_count": 2,
   "metadata": {
    "collapsed": false
   },
   "outputs": [
    {
     "name": "stdout",
     "output_type": "stream",
     "text": [
      "Baseline: 82.68% (3.90%)\n"
     ]
    }
   ],
   "source": [
    "# fix random seed for reproducibility\n",
    "seed = 7\n",
    "numpy.random.seed(seed)\n",
    "\n",
    "# Build pipeline\n",
    "estimators = []\n",
    "estimators.append(('standardize', StandardScaler()))\n",
    "estimators.append(('mlp', KerasClassifier(build_fn=create_baseline, nb_epoch=300, batch_size=16, verbose=0)))\n",
    "pipeline = Pipeline(estimators)\n",
    "\n",
    "# k-Fold Cross Validation\n",
    "kfold = StratifiedKFold(y=encoded_Y, n_folds=10, shuffle=True, random_state=seed)\n",
    "results = cross_val_score(pipeline, X, encoded_Y, cv=kfold)\n",
    "print(\"Baseline: %.2f%% (%.2f%%)\" % (results.mean()*100, results.std()*100))"
   ]
  },
  {
   "cell_type": "markdown",
   "metadata": {},
   "source": [
    "## 16.3 Using Dropout on the Visible Layer"
   ]
  },
  {
   "cell_type": "code",
   "execution_count": 3,
   "metadata": {
    "collapsed": true
   },
   "outputs": [],
   "source": [
    "# dropout in the input layer with weight constraint\n",
    "def create_model():\n",
    "    # create model\n",
    "    model = Sequential()\n",
    "    model.add(Dropout(0.2, input_shape=(60,)))\n",
    "    model.add(Dense(60, init='normal', activation='relu', W_constraint=maxnorm(3)))\n",
    "    model.add(Dense(30, init='normal', activation='relu', W_constraint=maxnorm(3)))\n",
    "    model.add(Dense(1, init='normal', activation='sigmoid'))\n",
    "    \n",
    "    # compile model\n",
    "    sgd = SGD(lr=0.1, momentum=0.9, decay=0.0, nesterov=False)\n",
    "    model.compile(loss='binary_crossentropy', optimizer=sgd, metrics=['accuracy'])\n",
    "\n",
    "    return model"
   ]
  },
  {
   "cell_type": "code",
   "execution_count": 4,
   "metadata": {
    "collapsed": false
   },
   "outputs": [
    {
     "name": "stdout",
     "output_type": "stream",
     "text": [
      "Baseline: 86.04% (5.04%)\n"
     ]
    }
   ],
   "source": [
    "numpy.random.seed(seed)\n",
    "# Build pipeline\n",
    "estimators = []\n",
    "estimators.append(('standardize', StandardScaler()))\n",
    "estimators.append(('mlp', KerasClassifier(build_fn=create_model, nb_epoch=300, batch_size=16, verbose=0)))\n",
    "pipeline = Pipeline(estimators)\n",
    "\n",
    "# k-Fold Cross Validation\n",
    "kfold = StratifiedKFold(y=encoded_Y, n_folds=10, shuffle=True, random_state=seed)\n",
    "results = cross_val_score(pipeline, X, encoded_Y, cv=kfold)\n",
    "print(\"Baseline: %.2f%% (%.2f%%)\" % (results.mean()*100, results.std()*100))"
   ]
  },
  {
   "cell_type": "markdown",
   "metadata": {},
   "source": [
    "## 16.4 Using Dropout on Hidden Layers"
   ]
  },
  {
   "cell_type": "code",
   "execution_count": 5,
   "metadata": {
    "collapsed": true
   },
   "outputs": [],
   "source": [
    "# dropout in the hidden layer with weight constraint\n",
    "def create_model():\n",
    "    # create model\n",
    "    model = Sequential()\n",
    "    model.add(Dense(60, input_dim=60, init='normal', activation='relu', W_constraint=maxnorm(3)))\n",
    "    model.add(Dropout(0.2))\n",
    "    model.add(Dense(30, init='normal', activation='relu', W_constraint=maxnorm(3)))\n",
    "    model.add(Dropout(0.2))\n",
    "    model.add(Dense(1, init='normal', activation='sigmoid'))\n",
    "    \n",
    "    # compile model\n",
    "    sgd = SGD(lr=0.1, momentum=0.9, decay=0.0, nesterov=False)\n",
    "    model.compile(loss='binary_crossentropy', optimizer=sgd, metrics=['accuracy'])\n",
    "\n",
    "    return model"
   ]
  },
  {
   "cell_type": "code",
   "execution_count": 6,
   "metadata": {
    "collapsed": false
   },
   "outputs": [
    {
     "name": "stdout",
     "output_type": "stream",
     "text": [
      "Baseline: 83.11% (4.55%)\n"
     ]
    }
   ],
   "source": [
    "numpy.random.seed(seed)\n",
    "# Build pipeline\n",
    "estimators = []\n",
    "estimators.append(('standardize', StandardScaler()))\n",
    "estimators.append(('mlp', KerasClassifier(build_fn=create_model, nb_epoch=300, batch_size=16, verbose=0)))\n",
    "pipeline = Pipeline(estimators)\n",
    "\n",
    "# k-Fold Cross Validation\n",
    "kfold = StratifiedKFold(y=encoded_Y, n_folds=10, shuffle=True, random_state=seed)\n",
    "results = cross_val_score(pipeline, X, encoded_Y, cv=kfold)\n",
    "print(\"Baseline: %.2f%% (%.2f%%)\" % (results.mean()*100, results.std()*100))"
   ]
  },
  {
   "cell_type": "code",
   "execution_count": 17,
   "metadata": {
    "collapsed": true
   },
   "outputs": [],
   "source": [
    "# dropout in the hidden layer with weight constraint\n",
    "def create_model():\n",
    "    # create model\n",
    "    model = Sequential()\n",
    "    model.add(Dense(60, input_dim=60, init='normal', activation='relu', W_constraint=maxnorm(5)))\n",
    "    model.add(Dropout(0.2))\n",
    "    model.add(Dense(30, init='normal', activation='relu', W_constraint=maxnorm(5)))\n",
    "    model.add(Dropout(0.2))\n",
    "    model.add(Dense(1, init='normal', activation='sigmoid'))\n",
    "    \n",
    "    # compile model\n",
    "    sgd = SGD(lr=0.1, momentum=0.9, decay=0.0, nesterov=False)\n",
    "    model.compile(loss='binary_crossentropy', optimizer=sgd, metrics=['accuracy'])\n",
    "\n",
    "    return model"
   ]
  },
  {
   "cell_type": "code",
   "execution_count": 18,
   "metadata": {
    "collapsed": true
   },
   "outputs": [],
   "source": [
    "model_1 = create_model()\n",
    "# Fit the model\n",
    "history = model_1.fit(X, encoded_Y, validation_split=0.10, nb_epoch=300, batch_size=20, verbose=0)"
   ]
  },
  {
   "cell_type": "code",
   "execution_count": 19,
   "metadata": {
    "collapsed": false
   },
   "outputs": [
    {
     "name": "stdout",
     "output_type": "stream",
     "text": [
      "['acc', 'loss', 'val_acc', 'val_loss']\n"
     ]
    }
   ],
   "source": [
    "# list all data in history\n",
    "print(history.history.keys())"
   ]
  },
  {
   "cell_type": "code",
   "execution_count": 20,
   "metadata": {
    "collapsed": false
   },
   "outputs": [
    {
     "data": {
      "image/png": "[encoded data removed]",
      "text/plain": [
       "<matplotlib.figure.Figure at 0x10c8cbe10>"
      ]
     },
     "metadata": {},
     "output_type": "display_data"
    }
   ],
   "source": [
    "import matplotlib.pyplot as plt\n",
    "%matplotlib inline\n",
    "# summarize history for accuracy\n",
    "plt.plot(history.history['acc'])\n",
    "plt.plot(history.history['val_acc'])\n",
    "plt.title('model accuracy')\n",
    "plt.ylabel('accuracy')\n",
    "plt.xlabel('epoch')\n",
    "plt.legend(['train','test'], loc='upper left')\n",
    "plt.show()"
   ]
  },
  {
   "cell_type": "code",
   "execution_count": 21,
   "metadata": {
    "collapsed": false
   },
   "outputs": [
    {
     "data": {
      "image/png": "[encoded data removed]",
      "text/plain": [
       "<matplotlib.figure.Figure at 0x10c9d0d50>"
      ]
     },
     "metadata": {},
     "output_type": "display_data"
    }
   ],
   "source": [
    "# summarize history for loss\n",
    "plt.plot(history.history['loss'])\n",
    "plt.plot(history.history['val_loss'])\n",
    "plt.title('model loss')\n",
    "plt.ylabel('loss')\n",
    "plt.xlabel('epoch')\n",
    "plt.legend(['train','test'], loc='upper left')\n",
    "plt.show()"
   ]
  },
  {
   "cell_type": "markdown",
   "metadata": {},
   "source": [
    "## 17.3 Time-Based Learning Rate Schedule"
   ]
  },
  {
   "cell_type": "code",
   "execution_count": 22,
   "metadata": {
    "collapsed": false
   },
   "outputs": [
    {
     "name": "stdout",
     "output_type": "stream",
     "text": [
      "Train on 235 samples, validate on 116 samples\n",
      "Epoch 1/50\n",
      "0s - loss: 0.6756 - acc: 0.7277 - val_loss: 0.6029 - val_acc: 0.8621\n",
      "Epoch 2/50\n",
      "0s - loss: 0.6179 - acc: 0.7787 - val_loss: 0.4956 - val_acc: 0.8793\n",
      "Epoch 3/50\n",
      "0s - loss: 0.5326 - acc: 0.8170 - val_loss: 0.4504 - val_acc: 0.9483\n",
      "Epoch 4/50\n",
      "0s - loss: 0.4405 - acc: 0.8298 - val_loss: 0.4003 - val_acc: 0.9397\n",
      "Epoch 5/50\n",
      "0s - loss: 0.3678 - acc: 0.8681 - val_loss: 0.4080 - val_acc: 0.8793\n",
      "Epoch 6/50\n",
      "0s - loss: 0.3104 - acc: 0.8979 - val_loss: 0.2980 - val_acc: 0.9397\n",
      "Epoch 7/50\n",
      "0s - loss: 0.2732 - acc: 0.9234 - val_loss: 0.1971 - val_acc: 0.9569\n",
      "Epoch 8/50\n",
      "0s - loss: 0.2313 - acc: 0.9106 - val_loss: 0.2190 - val_acc: 0.9397\n",
      "Epoch 9/50\n",
      "0s - loss: 0.2148 - acc: 0.9191 - val_loss: 0.1976 - val_acc: 0.9483\n",
      "Epoch 10/50\n",
      "0s - loss: 0.1930 - acc: 0.9319 - val_loss: 0.2361 - val_acc: 0.9138\n",
      "Epoch 11/50\n",
      "0s - loss: 0.2077 - acc: 0.9319 - val_loss: 0.1159 - val_acc: 0.9741\n",
      "Epoch 12/50\n",
      "0s - loss: 0.1728 - acc: 0.9447 - val_loss: 0.1710 - val_acc: 0.9655\n",
      "Epoch 13/50\n",
      "0s - loss: 0.1521 - acc: 0.9532 - val_loss: 0.1326 - val_acc: 0.9828\n",
      "Epoch 14/50\n",
      "0s - loss: 0.1465 - acc: 0.9404 - val_loss: 0.2271 - val_acc: 0.9138\n",
      "Epoch 15/50\n",
      "0s - loss: 0.1560 - acc: 0.9489 - val_loss: 0.0976 - val_acc: 0.9741\n",
      "Epoch 16/50\n",
      "0s - loss: 0.1421 - acc: 0.9532 - val_loss: 0.1386 - val_acc: 0.9828\n",
      "Epoch 17/50\n",
      "0s - loss: 0.1251 - acc: 0.9702 - val_loss: 0.1153 - val_acc: 0.9828\n",
      "Epoch 18/50\n",
      "0s - loss: 0.1186 - acc: 0.9702 - val_loss: 0.1434 - val_acc: 0.9655\n",
      "Epoch 19/50\n",
      "0s - loss: 0.1195 - acc: 0.9574 - val_loss: 0.1024 - val_acc: 0.9914\n",
      "Epoch 20/50\n",
      "0s - loss: 0.1130 - acc: 0.9617 - val_loss: 0.0881 - val_acc: 0.9828\n",
      "Epoch 21/50\n",
      "0s - loss: 0.1122 - acc: 0.9702 - val_loss: 0.0946 - val_acc: 0.9828\n",
      "Epoch 22/50\n",
      "0s - loss: 0.1029 - acc: 0.9787 - val_loss: 0.1179 - val_acc: 0.9914\n",
      "Epoch 23/50\n",
      "0s - loss: 0.0987 - acc: 0.9787 - val_loss: 0.0930 - val_acc: 0.9914\n",
      "Epoch 24/50\n",
      "0s - loss: 0.1022 - acc: 0.9745 - val_loss: 0.0962 - val_acc: 0.9828\n",
      "Epoch 25/50\n",
      "0s - loss: 0.0967 - acc: 0.9745 - val_loss: 0.1064 - val_acc: 0.9828\n",
      "Epoch 26/50\n",
      "0s - loss: 0.0935 - acc: 0.9787 - val_loss: 0.0855 - val_acc: 0.9828\n",
      "Epoch 27/50\n",
      "0s - loss: 0.0893 - acc: 0.9787 - val_loss: 0.1086 - val_acc: 0.9914\n",
      "Epoch 28/50\n",
      "0s - loss: 0.0898 - acc: 0.9745 - val_loss: 0.0832 - val_acc: 0.9828\n",
      "Epoch 29/50\n",
      "0s - loss: 0.0853 - acc: 0.9787 - val_loss: 0.0853 - val_acc: 0.9914\n",
      "Epoch 30/50\n",
      "0s - loss: 0.0853 - acc: 0.9745 - val_loss: 0.1001 - val_acc: 0.9914\n",
      "Epoch 31/50\n",
      "0s - loss: 0.0812 - acc: 0.9787 - val_loss: 0.0761 - val_acc: 0.9828\n",
      "Epoch 32/50\n",
      "0s - loss: 0.0836 - acc: 0.9830 - val_loss: 0.0799 - val_acc: 0.9828\n",
      "Epoch 33/50\n",
      "0s - loss: 0.0765 - acc: 0.9830 - val_loss: 0.0929 - val_acc: 0.9828\n",
      "Epoch 34/50\n",
      "0s - loss: 0.0770 - acc: 0.9830 - val_loss: 0.0689 - val_acc: 0.9828\n",
      "Epoch 35/50\n",
      "0s - loss: 0.0793 - acc: 0.9830 - val_loss: 0.0842 - val_acc: 0.9914\n",
      "Epoch 36/50\n",
      "0s - loss: 0.0714 - acc: 0.9787 - val_loss: 0.0835 - val_acc: 0.9914\n",
      "Epoch 37/50\n",
      "0s - loss: 0.0701 - acc: 0.9830 - val_loss: 0.0765 - val_acc: 0.9914\n",
      "Epoch 38/50\n",
      "0s - loss: 0.0679 - acc: 0.9830 - val_loss: 0.0955 - val_acc: 0.9914\n",
      "Epoch 39/50\n",
      "0s - loss: 0.0725 - acc: 0.9830 - val_loss: 0.0765 - val_acc: 0.9914\n",
      "Epoch 40/50\n",
      "0s - loss: 0.0664 - acc: 0.9787 - val_loss: 0.0776 - val_acc: 0.9914\n",
      "Epoch 41/50\n",
      "0s - loss: 0.0629 - acc: 0.9830 - val_loss: 0.0751 - val_acc: 0.9914\n",
      "Epoch 42/50\n",
      "0s - loss: 0.0647 - acc: 0.9830 - val_loss: 0.0976 - val_acc: 0.9914\n",
      "Epoch 43/50\n",
      "0s - loss: 0.0648 - acc: 0.9830 - val_loss: 0.0812 - val_acc: 0.9914\n",
      "Epoch 44/50\n",
      "0s - loss: 0.0623 - acc: 0.9872 - val_loss: 0.0763 - val_acc: 0.9914\n",
      "Epoch 45/50\n",
      "0s - loss: 0.0607 - acc: 0.9830 - val_loss: 0.0732 - val_acc: 0.9914\n",
      "Epoch 46/50\n",
      "0s - loss: 0.0570 - acc: 0.9830 - val_loss: 0.0867 - val_acc: 0.9914\n",
      "Epoch 47/50\n",
      "0s - loss: 0.0584 - acc: 0.9830 - val_loss: 0.0808 - val_acc: 0.9914\n",
      "Epoch 48/50\n",
      "0s - loss: 0.0610 - acc: 0.9872 - val_loss: 0.0653 - val_acc: 0.9828\n",
      "Epoch 49/50\n",
      "0s - loss: 0.0591 - acc: 0.9830 - val_loss: 0.0821 - val_acc: 0.9914\n",
      "Epoch 50/50\n",
      "0s - loss: 0.0598 - acc: 0.9872 - val_loss: 0.0739 - val_acc: 0.9914\n"
     ]
    },
    {
     "data": {
      "text/plain": [
       "<keras.callbacks.History at 0x10ae12fd0>"
      ]
     },
     "execution_count": 22,
     "metadata": {},
     "output_type": "execute_result"
    }
   ],
   "source": [
    "# Time Based Learning Rate Decay\n",
    "import pandas\n",
    "import numpy\n",
    "from keras.models import Sequential\n",
    "from keras.layers import Dense\n",
    "from keras.optimizers import SGD\n",
    "from sklearn.preprocessing import LabelEncoder\n",
    "# fix random seed for reproducibility\n",
    "seed = 7\n",
    "numpy.random.seed(seed)\n",
    "# load dataset\n",
    "dataframe = pandas.read_csv(\"data/ionosphere.csv\", header=None)\n",
    "dataset = dataframe.values\n",
    "# split into input (X) and output (Y) variables\n",
    "X = dataset[:,0:34].astype(float)\n",
    "Y = dataset[:,34]\n",
    "# encode class values as integers\n",
    "encoder = LabelEncoder()\n",
    "encoder.fit(Y)\n",
    "Y = encoder.transform(Y)\n",
    "# create model\n",
    "model = Sequential()\n",
    "model.add(Dense(34, input_dim=34, init='normal', activation='relu'))\n",
    "model.add(Dense(1, init='normal', activation='sigmoid'))\n",
    "# Compile model\n",
    "epochs = 50\n",
    "learning_rate = 0.1\n",
    "decay_rate = learning_rate / epochs\n",
    "momentum = 0.8\n",
    "sgd = SGD(lr=learning_rate, momentum=momentum, decay=decay_rate, nesterov=False)\n",
    "model.compile(loss='binary_crossentropy', optimizer=sgd, metrics=['accuracy'])\n",
    "# Fit the model\n",
    "model.fit(X, Y, validation_split=0.33, nb_epoch=epochs, batch_size=28, verbose=2)"
   ]
  },
  {
   "cell_type": "markdown",
   "metadata": {},
   "source": [
    "## 17.4 Drop-Based Learning Rate Schedule"
   ]
  },
  {
   "cell_type": "code",
   "execution_count": 61,
   "metadata": {
    "collapsed": true
   },
   "outputs": [],
   "source": [
    "from keras.callbacks import LearningRateScheduler\n",
    "import math\n",
    "\n",
    "# learning rate schedule\n",
    "def step_decay(epoch):\n",
    "    initial_lrate = 0.1\n",
    "    drop = 0.5\n",
    "    epochs_drop = 10.0\n",
    "    lrate = initial_lrate * math.pow(drop, math.floor((1+epoch)/epochs_drop))\n",
    "    \n",
    "    return lrate"
   ]
  },
  {
   "cell_type": "code",
   "execution_count": 62,
   "metadata": {
    "collapsed": true
   },
   "outputs": [],
   "source": [
    "# fix random seed for reproducibility\n",
    "seed = 7\n",
    "numpy.random.seed(seed)\n",
    "# create model\n",
    "model = Sequential()\n",
    "model.add(Dense(34, input_dim=34, init='normal', activation='relu'))\n",
    "model.add(Dense(1, init='normal', activation='sigmoid'))\n",
    "# Compile model\n",
    "sgd = SGD(lr=0.0, momentum=0.9, decay=0.0, nesterov=False)\n",
    "model.compile(loss='binary_crossentropy', optimizer=sgd, metrics=['accuracy'])"
   ]
  },
  {
   "cell_type": "code",
   "execution_count": 63,
   "metadata": {
    "collapsed": false,
    "scrolled": true
   },
   "outputs": [
    {
     "name": "stdout",
     "output_type": "stream",
     "text": [
      "Train on 235 samples, validate on 116 samples\n",
      "Epoch 1/60\n",
      "235/235 [==============================] - 0s - loss: 0.6742 - acc: 0.7277 - val_loss: 0.5805 - val_acc: 0.8707\n",
      "Epoch 2/60\n",
      "235/235 [==============================] - 0s - loss: 0.5959 - acc: 0.7745 - val_loss: 0.4430 - val_acc: 0.8879\n",
      "Epoch 3/60\n",
      "235/235 [==============================] - 0s - loss: 0.4660 - acc: 0.8043 - val_loss: 0.3540 - val_acc: 0.9397\n",
      "Epoch 4/60\n",
      "235/235 [==============================] - 0s - loss: 0.3386 - acc: 0.8766 - val_loss: 0.3263 - val_acc: 0.8879\n",
      "Epoch 5/60\n",
      "235/235 [==============================] - 0s - loss: 0.2724 - acc: 0.8851 - val_loss: 0.3341 - val_acc: 0.8879\n",
      "Epoch 6/60\n",
      "235/235 [==============================] - 0s - loss: 0.2235 - acc: 0.9191 - val_loss: 0.2656 - val_acc: 0.8966\n",
      "Epoch 7/60\n",
      "235/235 [==============================] - 0s - loss: 0.1990 - acc: 0.9362 - val_loss: 0.1792 - val_acc: 0.9741\n",
      "Epoch 8/60\n",
      "235/235 [==============================] - 0s - loss: 0.1568 - acc: 0.9532 - val_loss: 0.1228 - val_acc: 0.9828\n",
      "Epoch 9/60\n",
      "235/235 [==============================] - 0s - loss: 0.1439 - acc: 0.9489 - val_loss: 0.1625 - val_acc: 0.9655\n",
      "Epoch 10/60\n",
      "235/235 [==============================] - 0s - loss: 0.1204 - acc: 0.9617 - val_loss: 0.1006 - val_acc: 0.9828\n",
      "Epoch 11/60\n",
      "235/235 [==============================] - 0s - loss: 0.1344 - acc: 0.9574 - val_loss: 0.0684 - val_acc: 0.9828\n",
      "Epoch 12/60\n",
      "235/235 [==============================] - 0s - loss: 0.1145 - acc: 0.9574 - val_loss: 0.1125 - val_acc: 0.9914\n",
      "Epoch 13/60\n",
      "235/235 [==============================] - 0s - loss: 0.1111 - acc: 0.9660 - val_loss: 0.0783 - val_acc: 0.9828\n",
      "Epoch 14/60\n",
      "235/235 [==============================] - 0s - loss: 0.1058 - acc: 0.9617 - val_loss: 0.1061 - val_acc: 0.9828\n",
      "Epoch 15/60\n",
      "235/235 [==============================] - 0s - loss: 0.1182 - acc: 0.9574 - val_loss: 0.0699 - val_acc: 0.9828\n",
      "Epoch 16/60\n",
      "235/235 [==============================] - 0s - loss: 0.1068 - acc: 0.9660 - val_loss: 0.0841 - val_acc: 0.9914\n",
      "Epoch 17/60\n",
      "235/235 [==============================] - 0s - loss: 0.0972 - acc: 0.9745 - val_loss: 0.0806 - val_acc: 0.9914\n",
      "Epoch 18/60\n",
      "235/235 [==============================] - 0s - loss: 0.0873 - acc: 0.9745 - val_loss: 0.0756 - val_acc: 0.9828\n",
      "Epoch 19/60\n",
      "235/235 [==============================] - 0s - loss: 0.0875 - acc: 0.9702 - val_loss: 0.0916 - val_acc: 0.9914\n",
      "Epoch 20/60\n",
      "235/235 [==============================] - 0s - loss: 0.0727 - acc: 0.9872 - val_loss: 0.0638 - val_acc: 0.9828\n",
      "Epoch 21/60\n",
      "235/235 [==============================] - 0s - loss: 0.0733 - acc: 0.9830 - val_loss: 0.0728 - val_acc: 0.9914\n",
      "Epoch 22/60\n",
      "235/235 [==============================] - 0s - loss: 0.0688 - acc: 0.9830 - val_loss: 0.0743 - val_acc: 0.9914\n",
      "Epoch 23/60\n",
      "235/235 [==============================] - 0s - loss: 0.0675 - acc: 0.9830 - val_loss: 0.0719 - val_acc: 0.9914\n",
      "Epoch 24/60\n",
      "235/235 [==============================] - 0s - loss: 0.0666 - acc: 0.9830 - val_loss: 0.0688 - val_acc: 0.9914\n",
      "Epoch 25/60\n",
      "235/235 [==============================] - 0s - loss: 0.0660 - acc: 0.9830 - val_loss: 0.0670 - val_acc: 0.9914\n",
      "Epoch 26/60\n",
      "235/235 [==============================] - 0s - loss: 0.0659 - acc: 0.9830 - val_loss: 0.0769 - val_acc: 0.9914\n",
      "Epoch 27/60\n",
      "235/235 [==============================] - 0s - loss: 0.0645 - acc: 0.9830 - val_loss: 0.0660 - val_acc: 0.9914\n",
      "Epoch 28/60\n",
      "235/235 [==============================] - 0s - loss: 0.0623 - acc: 0.9830 - val_loss: 0.0788 - val_acc: 0.9914\n",
      "Epoch 29/60\n",
      "235/235 [==============================] - 0s - loss: 0.0623 - acc: 0.9830 - val_loss: 0.0701 - val_acc: 0.9914\n",
      "Epoch 30/60\n",
      "235/235 [==============================] - 0s - loss: 0.0616 - acc: 0.9830 - val_loss: 0.0612 - val_acc: 0.9914\n",
      "Epoch 31/60\n",
      "235/235 [==============================] - 0s - loss: 0.0604 - acc: 0.9830 - val_loss: 0.0664 - val_acc: 0.9914\n",
      "Epoch 32/60\n",
      "235/235 [==============================] - 0s - loss: 0.0603 - acc: 0.9830 - val_loss: 0.0737 - val_acc: 0.9914\n",
      "Epoch 33/60\n",
      "235/235 [==============================] - 0s - loss: 0.0585 - acc: 0.9830 - val_loss: 0.0684 - val_acc: 0.9914\n",
      "Epoch 34/60\n",
      "235/235 [==============================] - 0s - loss: 0.0582 - acc: 0.9830 - val_loss: 0.0666 - val_acc: 0.9914\n",
      "Epoch 35/60\n",
      "235/235 [==============================] - 0s - loss: 0.0580 - acc: 0.9830 - val_loss: 0.0675 - val_acc: 0.9914\n",
      "Epoch 36/60\n",
      "235/235 [==============================] - 0s - loss: 0.0572 - acc: 0.9830 - val_loss: 0.0721 - val_acc: 0.9914\n",
      "Epoch 37/60\n",
      "235/235 [==============================] - 0s - loss: 0.0577 - acc: 0.9872 - val_loss: 0.0755 - val_acc: 0.9914\n",
      "Epoch 38/60\n",
      "235/235 [==============================] - 0s - loss: 0.0579 - acc: 0.9830 - val_loss: 0.0663 - val_acc: 0.9914\n",
      "Epoch 39/60\n",
      "235/235 [==============================] - 0s - loss: 0.0556 - acc: 0.9830 - val_loss: 0.0702 - val_acc: 0.9914\n",
      "Epoch 40/60\n",
      "235/235 [==============================] - 0s - loss: 0.0560 - acc: 0.9830 - val_loss: 0.0738 - val_acc: 0.9914\n",
      "Epoch 41/60\n",
      "235/235 [==============================] - 0s - loss: 0.0554 - acc: 0.9830 - val_loss: 0.0704 - val_acc: 0.9914\n",
      "Epoch 42/60\n",
      "235/235 [==============================] - 0s - loss: 0.0553 - acc: 0.9830 - val_loss: 0.0657 - val_acc: 0.9914\n",
      "Epoch 43/60\n",
      "235/235 [==============================] - 0s - loss: 0.0548 - acc: 0.9830 - val_loss: 0.0646 - val_acc: 0.9914\n",
      "Epoch 44/60\n",
      "235/235 [==============================] - 0s - loss: 0.0542 - acc: 0.9830 - val_loss: 0.0711 - val_acc: 0.9914\n",
      "Epoch 45/60\n",
      "235/235 [==============================] - 0s - loss: 0.0546 - acc: 0.9830 - val_loss: 0.0705 - val_acc: 0.9914\n",
      "Epoch 46/60\n",
      "235/235 [==============================] - 0s - loss: 0.0542 - acc: 0.9830 - val_loss: 0.0676 - val_acc: 0.9914\n",
      "Epoch 47/60\n",
      "235/235 [==============================] - 0s - loss: 0.0538 - acc: 0.9830 - val_loss: 0.0668 - val_acc: 0.9914\n",
      "Epoch 48/60\n",
      "235/235 [==============================] - 0s - loss: 0.0539 - acc: 0.9830 - val_loss: 0.0708 - val_acc: 0.9914\n",
      "Epoch 49/60\n",
      "235/235 [==============================] - 0s - loss: 0.0539 - acc: 0.9830 - val_loss: 0.0674 - val_acc: 0.9914\n",
      "Epoch 50/60\n",
      "235/235 [==============================] - 0s - loss: 0.0531 - acc: 0.9830 - val_loss: 0.0694 - val_acc: 0.9914\n",
      "Epoch 51/60\n",
      "235/235 [==============================] - 0s - loss: 0.0532 - acc: 0.9830 - val_loss: 0.0688 - val_acc: 0.9914\n",
      "Epoch 52/60\n",
      "235/235 [==============================] - 0s - loss: 0.0532 - acc: 0.9830 - val_loss: 0.0674 - val_acc: 0.9914\n",
      "Epoch 53/60\n",
      "235/235 [==============================] - 0s - loss: 0.0529 - acc: 0.9830 - val_loss: 0.0686 - val_acc: 0.9914\n",
      "Epoch 54/60\n",
      "235/235 [==============================] - 0s - loss: 0.0529 - acc: 0.9830 - val_loss: 0.0680 - val_acc: 0.9914\n",
      "Epoch 55/60\n",
      "235/235 [==============================] - 0s - loss: 0.0528 - acc: 0.9830 - val_loss: 0.0686 - val_acc: 0.9914\n",
      "Epoch 56/60\n",
      "235/235 [==============================] - 0s - loss: 0.0526 - acc: 0.9830 - val_loss: 0.0678 - val_acc: 0.9914\n",
      "Epoch 57/60\n",
      "235/235 [==============================] - 0s - loss: 0.0524 - acc: 0.9830 - val_loss: 0.0668 - val_acc: 0.9914\n",
      "Epoch 58/60\n",
      "235/235 [==============================] - 0s - loss: 0.0523 - acc: 0.9830 - val_loss: 0.0653 - val_acc: 0.9914\n",
      "Epoch 59/60\n",
      "235/235 [==============================] - 0s - loss: 0.0522 - acc: 0.9830 - val_loss: 0.0645 - val_acc: 0.9914\n",
      "Epoch 60/60\n",
      "235/235 [==============================] - 0s - loss: 0.0521 - acc: 0.9830 - val_loss: 0.0642 - val_acc: 0.9914\n"
     ]
    },
    {
     "data": {
      "text/plain": [
       "<keras.callbacks.History at 0x10edd1410>"
      ]
     },
     "execution_count": 63,
     "metadata": {},
     "output_type": "execute_result"
    }
   ],
   "source": [
    "# learning schedule callback\n",
    "lrate = LearningRateScheduler(step_decay)\n",
    "callbacks_list = [lrate]\n",
    "# Fit the model\n",
    "model.fit(X, Y, validation_split=0.33, nb_epoch=60, batch_size=28, callbacks=callbacks_list, verbose=1)"
   ]
  },
  {
   "cell_type": "markdown",
   "metadata": {},
   "source": [
    "### Respone to Accuracy"
   ]
  },
  {
   "cell_type": "code",
   "execution_count": 70,
   "metadata": {
    "collapsed": false
   },
   "outputs": [],
   "source": [
    "# fix random seed for reproducibility\n",
    "seed = 7\n",
    "numpy.random.seed(seed)\n",
    "# create model\n",
    "model = Sequential()\n",
    "model.add(Dense(34, input_dim=34, init='normal', activation='relu'))\n",
    "model.add(Dense(1, init='normal', activation='sigmoid'))\n",
    "# Compile model\n",
    "sgd = SGD(lr=0.0, momentum=0.9, decay=0.0, nesterov=False)\n",
    "model.compile(loss='binary_crossentropy', optimizer=sgd, metrics=['accuracy'])"
   ]
  },
  {
   "cell_type": "code",
   "execution_count": 71,
   "metadata": {
    "collapsed": false
   },
   "outputs": [
    {
     "ename": "TypeError",
     "evalue": "__init__() got an unexpected keyword argument 'factor'",
     "output_type": "error",
     "traceback": [
      "\u001b[0;31m---------------------------------------------------------------------------\u001b[0m",
      "\u001b[0;31mTypeError\u001b[0m                                 Traceback (most recent call last)",
      "\u001b[0;32m<ipython-input-71-c19e3ea109de>\u001b[0m in \u001b[0;36m<module>\u001b[0;34m()\u001b[0m\n\u001b[1;32m      3\u001b[0m \u001b[0;31m# Reduce learning_rate as val_loss pleateu\u001b[0m\u001b[0;34m\u001b[0m\u001b[0;34m\u001b[0m\u001b[0m\n\u001b[1;32m      4\u001b[0m reduce_lr = ReduceLROnPlateau(monitor='val_loss', factor=0.2,\n\u001b[0;32m----> 5\u001b[0;31m                   patience=5, min_lr=0.001)\n\u001b[0m\u001b[1;32m      6\u001b[0m \u001b[0mcallbacks_list\u001b[0m \u001b[0;34m=\u001b[0m \u001b[0;34m[\u001b[0m\u001b[0mreduce_lr\u001b[0m\u001b[0;34m]\u001b[0m\u001b[0;34m\u001b[0m\u001b[0m\n\u001b[1;32m      7\u001b[0m \u001b[0;31m# Fit the model\u001b[0m\u001b[0;34m\u001b[0m\u001b[0;34m\u001b[0m\u001b[0m\n",
      "\u001b[0;31mTypeError\u001b[0m: __init__() got an unexpected keyword argument 'factor'"
     ]
    }
   ],
   "source": [
    "#from keras.callbacks import ReduceLROnPlateau\n",
    "\n",
    "# Reduce learning_rate as val_loss pleateu\n",
    "reduce_lr = ReduceLROnPlateau(monitor='val_loss', factor=0.2,\n",
    "                  patience=5, min_lr=0.001)\n",
    "callbacks_list = [reduce_lr]\n",
    "# Fit the model\n",
    "model.fit(X, Y, validation_split=0.33, nb_epoch=60, batch_size=28, callbacks=callbacks_list, verbose=1)"
   ]
  },
  {
   "cell_type": "code",
   "execution_count": 69,
   "metadata": {
    "collapsed": true
   },
   "outputs": [],
   "source": [
    "class Callback(object):\n",
    "    '''Abstract base class used to build new callbacks.\n",
    "    # Properties\n",
    "        params: dict. Training parameters\n",
    "            (eg. verbosity, batch size, number of epochs...).\n",
    "        model: instance of `keras.models.Model`.\n",
    "            Reference of the model being trained.\n",
    "    The `logs` dictionary that callback methods\n",
    "    take as argument will contain keys for quantities relevant to\n",
    "    the current batch or epoch.\n",
    "    Currently, the `.fit()` method of the `Sequential` model class\n",
    "    will include the following quantities in the `logs` that\n",
    "    it passes to its callbacks:\n",
    "        on_epoch_end: logs include `acc` and `loss`, and\n",
    "            optionally include `val_loss`\n",
    "            (if validation is enabled in `fit`), and `val_acc`\n",
    "            (if validation and accuracy monitoring are enabled).\n",
    "        on_batch_begin: logs include `size`,\n",
    "            the number of samples in the current batch.\n",
    "        on_batch_end: logs include `loss`, and optionally `acc`\n",
    "            (if accuracy monitoring is enabled).\n",
    "    '''\n",
    "    def __init__(self):\n",
    "        pass\n",
    "\n",
    "    def _set_params(self, params):\n",
    "        self.params = params\n",
    "\n",
    "    def _set_model(self, model):\n",
    "        self.model = model\n",
    "\n",
    "    def on_epoch_begin(self, epoch, logs={}):\n",
    "        pass\n",
    "\n",
    "    def on_epoch_end(self, epoch, logs={}):\n",
    "        pass\n",
    "\n",
    "    def on_batch_begin(self, batch, logs={}):\n",
    "        pass\n",
    "\n",
    "    def on_batch_end(self, batch, logs={}):\n",
    "        pass\n",
    "\n",
    "    def on_train_begin(self, logs={}):\n",
    "        pass\n",
    "\n",
    "    def on_train_end(self, logs={}):\n",
    "        pass\n",
    "    \n",
    "class ReduceLROnPlateau(Callback):\n",
    "    \"\"\"\n",
    "    Reduce learning rate when a metric has stopped improving.\n",
    "    \"\"\"\n",
    "\n",
    "    def __init__(self, monitor='val_loss', reduce_factor=0.1, patience=0, verbose=0, mode='auto', epsilon=1e-4,\n",
    "                 cooldown=0, min_lr=0):\n",
    "        super(Callback, self).__init__()\n",
    "\n",
    "        self.monitor = monitor\n",
    "        self.reduce_factor = reduce_factor\n",
    "        self.min_lr = min_lr\n",
    "        self.epsilon = epsilon\n",
    "        self.patience = patience\n",
    "        self.verbose = verbose\n",
    "        self.cooldown = cooldown  # Number of epochs to wait after reducing learning rate.\n",
    "        self.in_cooldown = 0  # Cooldown counter.\n",
    "        self.wait = 0\n",
    "        self.best = 0\n",
    "        self.mode = mode\n",
    "        self.reset()\n",
    "\n",
    "    def reset(self):\n",
    "        if self.mode not in ['auto', 'min', 'max']:\n",
    "            warnings.warn('Learning Rate Plateau Reducing mode %s is unknown, '\n",
    "                          'fallback to auto mode.' % (self.mode), RuntimeWarning)\n",
    "            self.mode = 'auto'\n",
    "        if self.mode == 'min' or (self.mode == 'auto' and 'acc' not in self.monitor):\n",
    "            self.monitor_op = lambda a, b: np.less(a, b - self.epsilon)\n",
    "            self.best = np.Inf\n",
    "        else:\n",
    "            self.monitor_op = lambda a, b: np.greater(a, b + self.epsilon)\n",
    "            self.best = -np.Inf\n",
    "        self.in_cooldown = 0  # Cooldown counter.\n",
    "        self.wait = 0\n",
    "\n",
    "    def on_train_begin(self, logs={}):\n",
    "        self.reset()\n",
    "\n",
    "    def on_epoch_end(self, epoch, logs={}):\n",
    "        logs['lr'] = K.get_value(self.model.optimizer.lr)\n",
    "        current = logs.get(self.monitor)\n",
    "        if current is None:\n",
    "            warnings.warn('Learning Rate Plateau Reducing requires %s available!' %\n",
    "                          (self.monitor), RuntimeWarning)\n",
    "        else:\n",
    "            if self.in_cooldown > 0:\n",
    "                self.in_cooldown -= 1\n",
    "                self.wait = 0\n",
    "            elif self.monitor_op(current, self.best):\n",
    "                self.best = current\n",
    "                self.wait = 0\n",
    "            else:\n",
    "                if self.wait >= self.patience:\n",
    "                    old_lr = float(K.get_value(self.model.optimizer.lr))\n",
    "                    if old_lr > self.min_lr:\n",
    "                        new_lr = old_lr * self.reduce_factor\n",
    "                        new_lr = max(new_lr, self.min_lr)\n",
    "                        K.set_value(self.model.optimizer.lr, new_lr)\n",
    "                        if self.verbose > 0:\n",
    "                            print('\\nEpoch %05d: reducing learning rate to %s (Patience: ' % (epoch, new_lr))\n",
    "                        self.in_cooldown = self.cooldown\n",
    "                self.wait += 1"
   ]
  },
  {
   "cell_type": "code",
   "execution_count": null,
   "metadata": {
    "collapsed": true
   },
   "outputs": [],
   "source": []
  },
  {
   "cell_type": "code",
   "execution_count": null,
   "metadata": {
    "collapsed": true
   },
   "outputs": [],
   "source": []
  },
  {
   "cell_type": "code",
   "execution_count": null,
   "metadata": {
    "collapsed": true
   },
   "outputs": [],
   "source": []
  }
 ],
 "metadata": {
  "kernelspec": {
   "display_name": "Python 2",
   "language": "python",
   "name": "python2"
  },
  "language_info": {
   "codemirror_mode": {
    "name": "ipython",
    "version": 2
   },
   "file_extension": ".py",
   "mimetype": "text/x-python",
   "name": "python",
   "nbconvert_exporter": "python",
   "pygments_lexer": "ipython2",
   "version": "2.7.11"
  }
 },
 "nbformat": 4,
 "nbformat_minor": 1
}
